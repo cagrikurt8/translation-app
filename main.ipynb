{
 "cells": [
  {
   "cell_type": "code",
   "execution_count": 4,
   "metadata": {},
   "outputs": [],
   "source": [
    "from SpeechTranslator import Translator"
   ]
  },
  {
   "cell_type": "code",
   "execution_count": 5,
   "metadata": {},
   "outputs": [
    {
     "name": "stdout",
     "output_type": "stream",
     "text": [
      "tr-TR\n"
     ]
    }
   ],
   "source": [
    "translator = Translator('tr-TR', 'en')"
   ]
  },
  {
   "cell_type": "code",
   "execution_count": 7,
   "metadata": {},
   "outputs": [
    {
     "name": "stdout",
     "output_type": "stream",
     "text": [
      "Recognized speech: Döner yer misin?\n",
      "Do you eat gyros?\n"
     ]
    }
   ],
   "source": [
    "translation = translator.translate()\n",
    "translator.synthesize(translation)"
   ]
  },
  {
   "cell_type": "code",
   "execution_count": 43,
   "metadata": {},
   "outputs": [
    {
     "name": "stdout",
     "output_type": "stream",
     "text": [
      "Recognized speech: Merhaba.\n",
      "Hello.\n",
      "TranslationRecognitionResult(result_id=2a4349e1fd2347149bff59ca48ce5925, translations={'en': 'Hello.'}, reason=ResultReason.TranslatedSpeech)\n"
     ]
    }
   ],
   "source": [
    "from azure.cognitiveservices.speech import SpeechConfig, AudioConfig, SpeechSynthesizer, ResultReason\n",
    "from azure.cognitiveservices.speech.translation import TranslationRecognizer, SpeechTranslationConfig\n",
    "\n",
    "\n",
    "SPEECH_KEY = \"1410a78745054fd2a85ef2a031b02434\"\n",
    "SPEECH_REGION = \"westeurope\"\n",
    "\n",
    "source_language = \"tr-TR\"\n",
    "target_language = \"en\"\n",
    "\n",
    "translation_config = SpeechTranslationConfig(SPEECH_KEY, SPEECH_REGION)\n",
    "translation_config.speech_recognition_language = source_language\n",
    "translation_config.add_target_language(target_language)\n",
    "\n",
    "translator = TranslationRecognizer(translation_config)\n",
    "\n",
    "result = translator.recognize_once_async().get()\n",
    "    \n",
    "if result.reason == ResultReason.TranslatedSpeech:\n",
    "    print(f\"Recognized speech: {result.text}\")\n",
    "\n",
    "    translation = result.translations[target_language]\n",
    "    print(translation)"
   ]
  },
  {
   "cell_type": "code",
   "execution_count": null,
   "metadata": {},
   "outputs": [],
   "source": []
  }
 ],
 "metadata": {
  "kernelspec": {
   "display_name": "Python 3",
   "language": "python",
   "name": "python3"
  },
  "language_info": {
   "codemirror_mode": {
    "name": "ipython",
    "version": 3
   },
   "file_extension": ".py",
   "mimetype": "text/x-python",
   "name": "python",
   "nbconvert_exporter": "python",
   "pygments_lexer": "ipython3",
   "version": "3.9.5"
  }
 },
 "nbformat": 4,
 "nbformat_minor": 2
}
